{
  "nbformat": 4,
  "nbformat_minor": 0,
  "metadata": {
    "colab": {
      "name": "Loan_Prediction.ipynb",
      "version": "0.3.2",
      "provenance": [],
      "collapsed_sections": []
    },
    "kernelspec": {
      "name": "python3",
      "display_name": "Python 3"
    }
  },
  "cells": [
    {
      "metadata": {
        "id": "S9h3UOeOHmpX",
        "colab_type": "text"
      },
      "cell_type": "markdown",
      "source": [
        "##Frame the Problem:\n",
        "\n",
        "Predict the cluster of people who get accepted for their loan application."
      ]
    },
    {
      "metadata": {
        "id": "FIphLiJCIA07",
        "colab_type": "text"
      },
      "cell_type": "markdown",
      "source": [
        "##  Import libraries:"
      ]
    },
    {
      "metadata": {
        "id": "k8gZ0MO_HZzS",
        "colab_type": "code",
        "colab": {}
      },
      "cell_type": "code",
      "source": [
        "import numpy as np\n",
        "import pandas as pd\n",
        "import matplotlib.pyplot as plt\n",
        "import seaborn as sns\n",
        "%matplotlib inline"
      ],
      "execution_count": 0,
      "outputs": []
    },
    {
      "metadata": {
        "id": "AcM_bfwYJYjx",
        "colab_type": "text"
      },
      "cell_type": "markdown",
      "source": [
        "\n",
        "## Get the Data:"
      ]
    },
    {
      "metadata": {
        "id": "7AVTRYvbIykp",
        "colab_type": "code",
        "colab": {}
      },
      "cell_type": "code",
      "source": [
        "!ls -l"
      ],
      "execution_count": 0,
      "outputs": []
    },
    {
      "metadata": {
        "id": "CNwxPktPUCdo",
        "colab_type": "code",
        "colab": {}
      },
      "cell_type": "code",
      "source": [
        "\n",
        "# use this to upload  'C:\\Users\\vgopu\\Downloads\\Loan_train.csv'\n",
        "from google.colab import files\n",
        "\n",
        "uploaded = files.upload()\n",
        "\n",
        "for fn in uploaded.keys():\n",
        "  print('User uploaded file \"{name}\" with length {length} bytes'.format(\n",
        "      name=fn, length=len(uploaded[fn])))"
      ],
      "execution_count": 0,
      "outputs": []
    },
    {
      "metadata": {
        "id": "nfL2sC1hJeHE",
        "colab_type": "code",
        "colab": {}
      },
      "cell_type": "code",
      "source": [
        "\n",
        "data=pd.read_csv('Loan_train.csv')"
      ],
      "execution_count": 0,
      "outputs": []
    },
    {
      "metadata": {
        "id": "LYcU0dhzJgpp",
        "colab_type": "code",
        "colab": {}
      },
      "cell_type": "code",
      "source": [
        "data.head()"
      ],
      "execution_count": 0,
      "outputs": []
    },
    {
      "metadata": {
        "id": "DYIYexvgV97a",
        "colab_type": "code",
        "colab": {}
      },
      "cell_type": "code",
      "source": [
        "data.info()"
      ],
      "execution_count": 0,
      "outputs": []
    },
    {
      "metadata": {
        "id": "-83qZkvGkhy0",
        "colab_type": "text"
      },
      "cell_type": "markdown",
      "source": [
        "#**Data Analysis:**"
      ]
    },
    {
      "metadata": {
        "id": "0sS7HRsUknpP",
        "colab_type": "code",
        "colab": {}
      },
      "cell_type": "code",
      "source": [
        "# Heat map shows the correlation between the features.\n",
        "corr=data.corr()\n",
        "corr\n",
        "sns.heatmap(corr,cmap='Accent')"
      ],
      "execution_count": 0,
      "outputs": []
    },
    {
      "metadata": {
        "id": "eYx0-t6OldXd",
        "colab_type": "text"
      },
      "cell_type": "markdown",
      "source": [
        "## From the above plot we can see that\n",
        "1) Applicant income and loan amount has +ve correlation. 2)Loan amount and coapplicant's income has +ve correlation."
      ]
    },
    {
      "metadata": {
        "id": "kGj4A6ywlyun",
        "colab_type": "code",
        "colab": {}
      },
      "cell_type": "code",
      "source": [
        "sns.jointplot(x='Credit_History',y='ApplicantIncome',data=data)"
      ],
      "execution_count": 0,
      "outputs": []
    },
    {
      "metadata": {
        "id": "Hy6mR-zWguGR",
        "colab_type": "text"
      },
      "cell_type": "markdown",
      "source": [
        "# **Feature Engineering:**"
      ]
    },
    {
      "metadata": {
        "id": "ussmBXvgTX67",
        "colab_type": "code",
        "colab": {}
      },
      "cell_type": "code",
      "source": [
        "#Married Column:\n",
        "#Missing values\n",
        "data.loc[data['Married'].isna(),'Married']='Married'\n",
        "data['Married'].head()\n",
        "data['Married'].value_counts()\n"
      ],
      "execution_count": 0,
      "outputs": []
    },
    {
      "metadata": {
        "id": "YdWq3UkiVFLw",
        "colab_type": "code",
        "colab": {}
      },
      "cell_type": "code",
      "source": [
        "#changing the values in the column from 'Yes/No' to 'Married/NotMarried' to avoid the confussion of having 'Yes' as a column name after one hot encoding.:\n",
        "data.loc[data['Married']=='Yes', 'Married']='Married'\n",
        "data.loc[data['Married']=='No', 'Married']='NotMarried'\n",
        "data['Married'].value_counts()"
      ],
      "execution_count": 0,
      "outputs": []
    },
    {
      "metadata": {
        "id": "Zbd552NebVVC",
        "colab_type": "code",
        "colab": {}
      },
      "cell_type": "code",
      "source": [
        "#Gender Column:\n",
        "#Missing values\n",
        "data.loc[data['Gender'].isna(),'Gender']='Male'\n",
        "data['Gender'].head()\n",
        "data['Gender'].value_counts()"
      ],
      "execution_count": 0,
      "outputs": []
    },
    {
      "metadata": {
        "id": "sfU0B_txb8_B",
        "colab_type": "code",
        "colab": {}
      },
      "cell_type": "code",
      "source": [
        "#Dependents Column:\n",
        "#Missing values\n",
        "data.loc[(data['Married']=='Married') &( data['Dependents'].isnull()), 'Dependents']='One_Dependent'\n",
        "data.loc[data['Dependents'].isnull(), 'Dependents']= 'No_Dependents'"
      ],
      "execution_count": 0,
      "outputs": []
    },
    {
      "metadata": {
        "id": "PjcWiG9tc1Hv",
        "colab_type": "code",
        "colab": {}
      },
      "cell_type": "code",
      "source": [
        "\n",
        "#Changing the valuesin the Dependents column:\n",
        "data.loc[data['Dependents']=='0','Dependents']='No_Dependents'\n",
        "\n",
        "data.loc[data['Dependents']=='1','Dependents']='One_Dependent'\n",
        "data.loc[data['Dependents']=='2','Dependents']='Two_Dependents'\n",
        "\n",
        "data.loc[data['Dependents']=='3+','Dependents']='3+_Dependents'\n",
        "data['Dependents'].head()"
      ],
      "execution_count": 0,
      "outputs": []
    },
    {
      "metadata": {
        "id": "Y0pvbFvndPT6",
        "colab_type": "code",
        "colab": {}
      },
      "cell_type": "code",
      "source": [
        "#Self_Employed column:\n",
        "#Taking care of missing values\n",
        "\n",
        "data.loc[data['Self_Employed'].isnull(), 'Self_Employed']='NotSelf_Employed'\n",
        "data.loc[data['Self_Employed']=='No','Self_Employed']='NotSelf_Employed'\n",
        "\n",
        "data.loc[data['Self_Employed']=='Yes','Self_Employed']='Self_Employed'\n",
        "data['Self_Employed'].value_counts()"
      ],
      "execution_count": 0,
      "outputs": []
    },
    {
      "metadata": {
        "id": "ZzopT0RRea5Q",
        "colab_type": "code",
        "colab": {}
      },
      "cell_type": "code",
      "source": [
        "#Loan_amount_term column:\n",
        "data['Loan_Amount_Term'].isnull().value_counts()\n",
        "data['Loan_Amount_Term'].value_counts()\n",
        "data.loc[data['Loan_Amount_Term'].isnull(),'Loan_Amount_Term'] =360.0\n",
        "data['Loan_Amount_Term'].isnull().value_counts()"
      ],
      "execution_count": 0,
      "outputs": []
    },
    {
      "metadata": {
        "id": "ZbUgQeKhfYMk",
        "colab_type": "code",
        "colab": {}
      },
      "cell_type": "code",
      "source": [
        "#LoanAmount Column:\n",
        "#Loan Amount- we are imputing NaN's with avg of the total loanamount.:\n",
        "data['LoanAmount'].value_counts()\n",
        "avg=np.floor( data['LoanAmount'].mean())\n",
        "data.loc[data['LoanAmount'].isnull(),'LoanAmount']=avg\n",
        "data['LoanAmount'].isnull().value_counts()"
      ],
      "execution_count": 0,
      "outputs": []
    },
    {
      "metadata": {
        "id": "i2CRX7R3fzCH",
        "colab_type": "code",
        "colab": {}
      },
      "cell_type": "code",
      "source": [
        "# Credit_History: Missing values.\n",
        "data['Credit_History'].value_counts()\n",
        "data.loc[data['Credit_History'].isnull(),'Credit_History']=1.0\n",
        "data['Credit_History'].isnull().value_counts()\n"
      ],
      "execution_count": 0,
      "outputs": []
    },
    {
      "metadata": {
        "id": "xwiYgku3hMyt",
        "colab_type": "text"
      },
      "cell_type": "markdown",
      "source": [
        "## One Hot Encoding:"
      ]
    },
    {
      "metadata": {
        "id": "Jm1_cjQPZ2Fq",
        "colab_type": "text"
      },
      "cell_type": "markdown",
      "source": [
        "\n",
        "\n",
        "> Since the categorical variables are not ordinal so, we are performing one hot encoding.\n",
        "\n",
        "\n",
        "\n",
        "\n",
        "\n",
        "\n",
        "\n"
      ]
    },
    {
      "metadata": {
        "id": "VCUOLc9zgh1E",
        "colab_type": "code",
        "colab": {}
      },
      "cell_type": "code",
      "source": [
        "Gender=pd.get_dummies(data['Gender'],drop_first=1)\n",
        "Married=pd.get_dummies(data['Married'],drop_first=1)\n",
        "Education=pd.get_dummies(data['Education'],drop_first=1)\n",
        "Dependents=pd.get_dummies(data['Dependents'],drop_first=1)\n",
        "Self_Employed=pd.get_dummies(data['Self_Employed'],drop_first=1)\n",
        "Property_Area=pd.get_dummies(data['Property_Area'],drop_first=1)\n",
        "Loan_Status= pd.get_dummies(data['Loan_Status'], drop_first=1)\n",
        "\n",
        "\n"
      ],
      "execution_count": 0,
      "outputs": []
    },
    {
      "metadata": {
        "id": "trWAUuORjQh_",
        "colab_type": "code",
        "colab": {}
      },
      "cell_type": "code",
      "source": [
        "# Dropping the columns from the data set.\n",
        "old_data=data.copy()\n",
        "data.drop(['Loan_ID','Gender','Married','Dependents','Education','Self_Employed','Property_Area','Loan_Status'],axis=1,inplace=True)\n",
        "data.head()"
      ],
      "execution_count": 0,
      "outputs": []
    },
    {
      "metadata": {
        "id": "qPRXsLKBjc-X",
        "colab_type": "code",
        "colab": {}
      },
      "cell_type": "code",
      "source": [
        "#Concatinating the One hot encoded columns to the dataset.\n",
        "data=pd.concat([data,Gender,Married,Dependents,Education,Self_Employed,Property_Area,Loan_Status],axis=1)"
      ],
      "execution_count": 0,
      "outputs": []
    },
    {
      "metadata": {
        "id": "gvsyHjUFXW6A",
        "colab_type": "code",
        "colab": {}
      },
      "cell_type": "code",
      "source": [
        "data.head()"
      ],
      "execution_count": 0,
      "outputs": []
    },
    {
      "metadata": {
        "id": "bASO9AWNjvuM",
        "colab_type": "code",
        "colab": {}
      },
      "cell_type": "code",
      "source": [
        "#cChecking wheather data has all the values and of the type numeric:\n",
        "data.info()"
      ],
      "execution_count": 0,
      "outputs": []
    },
    {
      "metadata": {
        "id": "24cMsd3k5pjZ",
        "colab_type": "code",
        "colab": {}
      },
      "cell_type": "code",
      "source": [
        "corr= data.corr()\n",
        "sns.heatmap(corr, cmap='coolwarm')"
      ],
      "execution_count": 0,
      "outputs": []
    },
    {
      "metadata": {
        "id": "aZDR0OUO5Mkp",
        "colab_type": "text"
      },
      "cell_type": "markdown",
      "source": [
        "##Using random forest for feature importance:"
      ]
    },
    {
      "metadata": {
        "id": "8KQFp1CZ5LrC",
        "colab_type": "code",
        "colab": {}
      },
      "cell_type": "code",
      "source": [
        "from sklearn.ensemble import RandomForestClassifier\n",
        "randclf=RandomForestClassifier()\n",
        "X=data.iloc[:,0:14]\n",
        "X.head()"
      ],
      "execution_count": 0,
      "outputs": []
    },
    {
      "metadata": {
        "id": "ktLm95fb66-6",
        "colab_type": "code",
        "colab": {}
      },
      "cell_type": "code",
      "source": [
        "y= data.Y\n",
        "y.head()"
      ],
      "execution_count": 0,
      "outputs": []
    },
    {
      "metadata": {
        "id": "qA7eBctO7T4R",
        "colab_type": "code",
        "colab": {}
      },
      "cell_type": "code",
      "source": [
        "randclf.fit(X,y)"
      ],
      "execution_count": 0,
      "outputs": []
    },
    {
      "metadata": {
        "id": "4HjxGg4Z7eGO",
        "colab_type": "code",
        "colab": {}
      },
      "cell_type": "code",
      "source": [
        "# Creating a dictionary of features along with their co-efficients.\n",
        "feat= {}\n",
        "for feature,feature_coeff in zip(data.columns,randclf.feature_importances_):\n",
        "  feat[feature]=feature_coeff\n",
        "\n",
        "#Sorting them as per the importance.\n",
        "import operator\n",
        "sorted_fet= sorted(feat.items(),key=operator.itemgetter(1),reverse=True)\n",
        "#sorted()\n",
        "  \n",
        "#print(randclf.feature_importances_)"
      ],
      "execution_count": 0,
      "outputs": []
    },
    {
      "metadata": {
        "id": "Re-S8VPWBfhF",
        "colab_type": "code",
        "colab": {}
      },
      "cell_type": "code",
      "source": [
        "sorted_fet"
      ],
      "execution_count": 0,
      "outputs": []
    },
    {
      "metadata": {
        "id": "rkX7vHvXCp7Q",
        "colab_type": "code",
        "colab": {}
      },
      "cell_type": "code",
      "source": [
        "#saving data into data2.\n",
        "#data2=data\n",
        "#data=data2"
      ],
      "execution_count": 0,
      "outputs": []
    },
    {
      "metadata": {
        "id": "NqORqRXkC2IJ",
        "colab_type": "code",
        "colab": {}
      },
      "cell_type": "code",
      "source": [
        "data=data[['Credit_History','ApplicantIncome','LoanAmount','CoapplicantIncome','Loan_Amount_Term',]]"
      ],
      "execution_count": 0,
      "outputs": []
    },
    {
      "metadata": {
        "id": "Unc7dpnJD-SZ",
        "colab_type": "code",
        "colab": {}
      },
      "cell_type": "code",
      "source": [
        "data=pd.concat([data,y],axis=1)"
      ],
      "execution_count": 0,
      "outputs": []
    },
    {
      "metadata": {
        "id": "SeT1TmSHa40E",
        "colab_type": "text"
      },
      "cell_type": "markdown",
      "source": [
        "\n",
        "\n",
        "> Taking the top 5 features from the Random forest algorithm, building a model using Logistic Regression.\n",
        "\n"
      ]
    },
    {
      "metadata": {
        "id": "uOuUJpefDadE",
        "colab_type": "code",
        "colab": {}
      },
      "cell_type": "code",
      "source": [
        "data.head()"
      ],
      "execution_count": 0,
      "outputs": []
    },
    {
      "metadata": {
        "id": "zBweCPBQlNhq",
        "colab_type": "text"
      },
      "cell_type": "markdown",
      "source": [
        "##Train- Test Split:"
      ]
    },
    {
      "metadata": {
        "id": "HhXQou4ylFFB",
        "colab_type": "code",
        "colab": {}
      },
      "cell_type": "code",
      "source": [
        "from sklearn.model_selection import train_test_split\n",
        "X_train,X_test,y_train,y_test=train_test_split(data.drop('Y',axis=1),\n",
        "                                               data['Y'],\n",
        "                                               test_size=0.3,\n",
        "                                               random_state=100)"
      ],
      "execution_count": 0,
      "outputs": []
    },
    {
      "metadata": {
        "id": "LLwoHM-DrkFd",
        "colab_type": "code",
        "colab": {}
      },
      "cell_type": "code",
      "source": [
        "X_train.head()"
      ],
      "execution_count": 0,
      "outputs": []
    },
    {
      "metadata": {
        "id": "ZRrzauZ0rsb2",
        "colab_type": "code",
        "colab": {}
      },
      "cell_type": "code",
      "source": [
        "from sklearn.linear_model import LogisticRegression\n",
        "clf= LogisticRegression()\n",
        "model=clf.fit(X_train,y_train)"
      ],
      "execution_count": 0,
      "outputs": []
    },
    {
      "metadata": {
        "id": "PnUiMWgFsYEW",
        "colab_type": "code",
        "colab": {}
      },
      "cell_type": "code",
      "source": [
        "model.coef_"
      ],
      "execution_count": 0,
      "outputs": []
    },
    {
      "metadata": {
        "id": "OTns7e2Wt4mS",
        "colab_type": "code",
        "colab": {}
      },
      "cell_type": "code",
      "source": [
        "predict=clf.predict(X_test)"
      ],
      "execution_count": 0,
      "outputs": []
    },
    {
      "metadata": {
        "id": "yWNuz9euuYBu",
        "colab_type": "code",
        "colab": {}
      },
      "cell_type": "code",
      "source": [
        "predict[:5]"
      ],
      "execution_count": 0,
      "outputs": []
    },
    {
      "metadata": {
        "id": "8C4MriKQunlU",
        "colab_type": "code",
        "colab": {}
      },
      "cell_type": "code",
      "source": [
        "y_test[:5]"
      ],
      "execution_count": 0,
      "outputs": []
    },
    {
      "metadata": {
        "id": "zlcDj_NKu3MH",
        "colab_type": "text"
      },
      "cell_type": "markdown",
      "source": [
        "##Model evaluation:"
      ]
    },
    {
      "metadata": {
        "id": "5-MZEdEnuq52",
        "colab_type": "code",
        "colab": {}
      },
      "cell_type": "code",
      "source": [
        "# Confusion matrix.\n",
        "from sklearn.metrics import confusion_matrix, classification_report"
      ],
      "execution_count": 0,
      "outputs": []
    },
    {
      "metadata": {
        "id": "trTP52ybvRKF",
        "colab_type": "code",
        "colab": {}
      },
      "cell_type": "code",
      "source": [
        "print(confusion_matrix(y_test,predict))"
      ],
      "execution_count": 0,
      "outputs": []
    },
    {
      "metadata": {
        "id": "X_jGVxIivhUm",
        "colab_type": "code",
        "colab": {}
      },
      "cell_type": "code",
      "source": [
        "from sklearn.metrics import precision_score, recall_score, accuracy_score, f1_score\n",
        "print(\"Precision:{}\".format(precision_score(y_test,predict)))\n",
        "print(\"Recall score:{}\".format(recall_score(y_test,predict)))\n",
        "print(\"Accuracy:{}\".format(accuracy_score(y_test,predict)))\n",
        "print(\"F1 score:{}\".format(f1_score(y_test,predict)))\n",
        "print(\"classification report:{}\".format(classification_report(y_test,predict)))\n",
        "\n"
      ],
      "execution_count": 0,
      "outputs": []
    },
    {
      "metadata": {
        "id": "fcbnd62yyxyG",
        "colab_type": "text"
      },
      "cell_type": "markdown",
      "source": [
        "##Prediction on Analytic Vidhya's test cases:"
      ]
    },
    {
      "metadata": {
        "id": "-0Var_NAw9Qs",
        "colab_type": "code",
        "colab": {}
      },
      "cell_type": "code",
      "source": [
        "\n",
        "# use this to upload  'C:\\Users\\vgopu\\Downloads\\Loan_train.csv'\n",
        "from google.colab import files\n",
        "\n",
        "uploaded = files.upload()\n",
        "\n",
        "for fn in uploaded.keys():\n",
        "  print('User uploaded file \"{name}\" with length {length} bytes'.format(\n",
        "      name=fn, length=len(uploaded[fn])))"
      ],
      "execution_count": 0,
      "outputs": []
    },
    {
      "metadata": {
        "id": "nh4l93stzEne",
        "colab_type": "code",
        "colab": {}
      },
      "cell_type": "code",
      "source": [
        "prod=pd.read_csv('Loan_test.csv')"
      ],
      "execution_count": 0,
      "outputs": []
    },
    {
      "metadata": {
        "id": "XSf45qtVzX_l",
        "colab_type": "code",
        "colab": {}
      },
      "cell_type": "code",
      "source": [
        "prod.head()"
      ],
      "execution_count": 0,
      "outputs": []
    },
    {
      "metadata": {
        "id": "mrZ51BHzzZp2",
        "colab_type": "code",
        "colab": {}
      },
      "cell_type": "code",
      "source": [
        "prod.info()"
      ],
      "execution_count": 0,
      "outputs": []
    },
    {
      "metadata": {
        "id": "OqIpyR9JbSsg",
        "colab_type": "text"
      },
      "cell_type": "markdown",
      "source": [
        "#Performing the same tranformations to the test data as of train data:"
      ]
    },
    {
      "metadata": {
        "id": "kXIDJwOPzueK",
        "colab_type": "code",
        "colab": {}
      },
      "cell_type": "code",
      "source": [
        "#Gender inmuting Nan's with \"Male\".\n",
        "prod.loc[prod['Gender'].isnull(),'Gender']='Male'\n",
        "prod['Gender'].isnull().value_counts()"
      ],
      "execution_count": 0,
      "outputs": []
    },
    {
      "metadata": {
        "id": "hOiDmp0F0fKX",
        "colab_type": "code",
        "colab": {}
      },
      "cell_type": "code",
      "source": [
        "#Dependents:\n",
        "#Making same changes in 'Dependents' column.\n",
        "prod.loc[prod['Dependents']=='0','Dependents']='No_Dependents'\n",
        "\n",
        "prod.loc[prod['Dependents']=='1','Dependents']='One_Dependent'\n",
        "prod.loc[prod['Dependents']=='2','Dependents']='Two_Dependents'\n",
        "\n",
        "prod.loc[prod['Dependents']=='3+','Dependents']='3+_Dependents'\n",
        "prod['Dependents'].head()\n",
        "\n",
        "#Fillinf Nan's:\n",
        "\n",
        "prod.loc[(prod['Married']=='Married') &( prod['Dependents'].isnull()), 'Dependents']='One_Dependent'\n",
        "prod.loc[prod['Dependents'].isnull(), 'Dependents']= 'No_Dependents'\n",
        "prod['Dependents'].isnull().value_counts()"
      ],
      "execution_count": 0,
      "outputs": []
    },
    {
      "metadata": {
        "id": "1T_jII9Q2Yt3",
        "colab_type": "code",
        "colab": {}
      },
      "cell_type": "code",
      "source": [
        "#Making same changes in self_Employed column as well.\n",
        "prod.loc[prod['Self_Employed']=='No','Self_Employed']='NotSelf_Employed'\n",
        "\n",
        "prod.loc[prod['Self_Employed']=='Yes','Self_Employed']='Self_Employed'\n",
        "prod['Self_Employed'].head()\n",
        "\n",
        "# Filling missing values.\n",
        "# Filling NaN's in Self_Employed column and performing one hot encoding.\n",
        "prod.loc[prod['Self_Employed'].isnull(), 'Self_Employed']='NotSelf_Employed'\n",
        "prod['Self_Employed'].isnull().value_counts()\n"
      ],
      "execution_count": 0,
      "outputs": []
    },
    {
      "metadata": {
        "id": "J5W-n6UW2g4m",
        "colab_type": "code",
        "colab": {}
      },
      "cell_type": "code",
      "source": [
        "#Loan Amount- we are imputing NaN's with avg of the total loanamount.:\n",
        "prod['LoanAmount'].value_counts()\n",
        "avg=np.floor( prod['LoanAmount'].mean())\n",
        "prod.loc[prod['LoanAmount'].isnull(),'LoanAmount']=avg\n",
        "prod['LoanAmount'].isnull().value_counts()"
      ],
      "execution_count": 0,
      "outputs": []
    },
    {
      "metadata": {
        "id": "wM-a9hkc4OK1",
        "colab_type": "code",
        "colab": {}
      },
      "cell_type": "code",
      "source": [
        "#Loan Amount terms:\n",
        "prod['Loan_Amount_Term'].isnull().value_counts()\n",
        "prod['Loan_Amount_Term'].value_counts()\n",
        "prod.loc[prod['Loan_Amount_Term'].isnull(),'Loan_Amount_Term'] =360.0"
      ],
      "execution_count": 0,
      "outputs": []
    },
    {
      "metadata": {
        "id": "zMSYrFs_qkmz",
        "colab_type": "code",
        "colab": {}
      },
      "cell_type": "code",
      "source": [
        "# Credit_History: Missing values.\n",
        "prod['Credit_History'].value_counts()\n",
        "prod.loc[prod['Credit_History'].isnull(),'Credit_History']=1.0\n",
        "prod['Credit_History'].isnull().value_counts()\n"
      ],
      "execution_count": 0,
      "outputs": []
    },
    {
      "metadata": {
        "id": "rohMxwwjtZNN",
        "colab_type": "text"
      },
      "cell_type": "markdown",
      "source": [
        "## One Hot Encoding:"
      ]
    },
    {
      "metadata": {
        "id": "YW-Gjz2DtKg-",
        "colab_type": "code",
        "colab": {}
      },
      "cell_type": "code",
      "source": [
        "Gender=pd.get_dummies(prod['Gender'],drop_first=1)\n",
        "Married=pd.get_dummies(prod['Married'],drop_first=1)\n",
        "Education=pd.get_dummies(prod['Education'],drop_first=1)\n",
        "Dependents=pd.get_dummies(prod['Dependents'],drop_first=1)\n",
        "Self_Employed=pd.get_dummies(prod['Self_Employed'],drop_first=1)\n",
        "Property_Area=pd.get_dummies(prod['Property_Area'],drop_first=1)\n",
        "\n"
      ],
      "execution_count": 0,
      "outputs": []
    },
    {
      "metadata": {
        "id": "5bVqUROVuzPs",
        "colab_type": "code",
        "colab": {}
      },
      "cell_type": "code",
      "source": [
        "#Dropping the columns:\n",
        "old_prod=prod.copy()\n",
        "prod.drop(['Loan_ID','Gender','Married','Dependents','Education','Self_Employed','Property_Area'],axis=1,inplace=True)\n",
        "prod.head()"
      ],
      "execution_count": 0,
      "outputs": []
    },
    {
      "metadata": {
        "id": "mnzC3ov0vN9y",
        "colab_type": "code",
        "colab": {}
      },
      "cell_type": "code",
      "source": [
        "#Concatinating the one hot encoded columns to the production data.\n",
        "prod = pd.concat([prod,Gender,Married,Dependents,Education,Self_Employed,Property_Area],axis=1)\n",
        "prod.head()"
      ],
      "execution_count": 0,
      "outputs": []
    },
    {
      "metadata": {
        "id": "o0qHZX06wHF1",
        "colab_type": "code",
        "colab": {}
      },
      "cell_type": "code",
      "source": [
        "#To make sure our production data has no missing values and all values are numeric:\n",
        "prod.info()"
      ],
      "execution_count": 0,
      "outputs": []
    },
    {
      "metadata": {
        "id": "8KteKNKCFufa",
        "colab_type": "code",
        "colab": {}
      },
      "cell_type": "code",
      "source": [
        "#Assigning the production data to a variable.\n",
        "prod1=prod"
      ],
      "execution_count": 0,
      "outputs": []
    },
    {
      "metadata": {
        "id": "LWnPSIo0FC64",
        "colab_type": "code",
        "colab": {}
      },
      "cell_type": "code",
      "source": [
        "#Since we build our model using random forest feature importance inference.\n",
        "# so we have to drop some of the features from the production data.\n",
        "prod=prod[['Credit_History','ApplicantIncome','LoanAmount','CoapplicantIncome','Loan_Amount_Term',]]"
      ],
      "execution_count": 0,
      "outputs": []
    },
    {
      "metadata": {
        "id": "br1OLnzaFsGb",
        "colab_type": "code",
        "colab": {}
      },
      "cell_type": "code",
      "source": [
        "prod.head()"
      ],
      "execution_count": 0,
      "outputs": []
    },
    {
      "metadata": {
        "id": "isARfNFucYDK",
        "colab_type": "text"
      },
      "cell_type": "markdown",
      "source": [
        "#Predicting on the production data:"
      ]
    },
    {
      "metadata": {
        "id": "Vxxyne69wUCI",
        "colab_type": "code",
        "colab": {}
      },
      "cell_type": "code",
      "source": [
        "predict1= clf.predict(prod)"
      ],
      "execution_count": 0,
      "outputs": []
    },
    {
      "metadata": {
        "id": "4Ucv6YEKxJY6",
        "colab_type": "code",
        "colab": {}
      },
      "cell_type": "code",
      "source": [
        "#Converting Loan Status cloumn values back into Y/N \n",
        "predict2=predict1.copy()"
      ],
      "execution_count": 0,
      "outputs": []
    },
    {
      "metadata": {
        "id": "dkpAxxTlxLYn",
        "colab_type": "code",
        "colab": {}
      },
      "cell_type": "code",
      "source": [
        "predict3=np.array([])\n",
        "for i in range(0,len(predict2)):\n",
        "  pred=np.where(predict2[i]==1,'Y','N')\n",
        "  predict3=np.append(predict3,pred)"
      ],
      "execution_count": 0,
      "outputs": []
    },
    {
      "metadata": {
        "id": "OjwjgpH6ysLu",
        "colab_type": "code",
        "colab": {}
      },
      "cell_type": "code",
      "source": [
        "np.shape(predict3)"
      ],
      "execution_count": 0,
      "outputs": []
    },
    {
      "metadata": {
        "id": "Sv9MwOYeyuVj",
        "colab_type": "code",
        "colab": {}
      },
      "cell_type": "code",
      "source": [
        "#to see the values in predict.\n",
        "predict3[0:5]"
      ],
      "execution_count": 0,
      "outputs": []
    },
    {
      "metadata": {
        "id": "9NAm_Gdcwpmu",
        "colab_type": "code",
        "colab": {}
      },
      "cell_type": "code",
      "source": [
        "len(old_prod['Loan_ID'])"
      ],
      "execution_count": 0,
      "outputs": []
    },
    {
      "metadata": {
        "id": "pyn7hk5cuFqE",
        "colab_type": "code",
        "colab": {}
      },
      "cell_type": "code",
      "source": [
        "#Creating a data frame with columns as Row_ID and predicted value.\n",
        "pre={'Loan_ID':old_prod['Loan_ID'],\n",
        "    'Loan_Status':predict3}"
      ],
      "execution_count": 0,
      "outputs": []
    },
    {
      "metadata": {
        "id": "wKCFfBpezVyb",
        "colab_type": "code",
        "colab": {}
      },
      "cell_type": "code",
      "source": [
        "Result=pd.DataFrame(pre)"
      ],
      "execution_count": 0,
      "outputs": []
    },
    {
      "metadata": {
        "id": "5x_Yrx8gzceP",
        "colab_type": "code",
        "colab": {}
      },
      "cell_type": "code",
      "source": [
        "Result.head()"
      ],
      "execution_count": 0,
      "outputs": []
    },
    {
      "metadata": {
        "id": "zxRCSD9x0NIY",
        "colab_type": "code",
        "colab": {}
      },
      "cell_type": "code",
      "source": [
        "#Converting into a CSV file.\n",
        "Result.to_csv('Result1.csv',index=False)"
      ],
      "execution_count": 0,
      "outputs": []
    },
    {
      "metadata": {
        "id": "pYyruF0q1Qdi",
        "colab_type": "code",
        "colab": {}
      },
      "cell_type": "code",
      "source": [
        "#Downloading CSV file to local drive.\n",
        "from google.colab import files\n",
        "files.download('Result1.csv')"
      ],
      "execution_count": 0,
      "outputs": []
    }
  ]
}